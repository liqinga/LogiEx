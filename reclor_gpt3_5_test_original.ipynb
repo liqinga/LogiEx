{
  "nbformat": 4,
  "nbformat_minor": 0,
  "metadata": {
    "colab": {
      "provenance": []
    },
    "kernelspec": {
      "name": "python3",
      "display_name": "Python 3"
    },
    "language_info": {
      "name": "python"
    }
  },
  "cells": [
    {
      "cell_type": "code",
      "execution_count": null,
      "metadata": {
        "id": "5DbX_8x4gqCO",
        "colab": {
          "base_uri": "https://localhost:8080/"
        },
        "outputId": "33d7bc70-13a8-4b95-ae77-294adf01126e"
      },
      "outputs": [
        {
          "output_type": "stream",
          "name": "stdout",
          "text": [
            "Collecting openai\n",
            "  Downloading openai-1.41.1-py3-none-any.whl.metadata (22 kB)\n",
            "Requirement already satisfied: anyio<5,>=3.5.0 in /usr/local/lib/python3.10/dist-packages (from openai) (3.7.1)\n",
            "Requirement already satisfied: distro<2,>=1.7.0 in /usr/lib/python3/dist-packages (from openai) (1.7.0)\n",
            "Collecting httpx<1,>=0.23.0 (from openai)\n",
            "  Downloading httpx-0.27.0-py3-none-any.whl.metadata (7.2 kB)\n",
            "Collecting jiter<1,>=0.4.0 (from openai)\n",
            "  Downloading jiter-0.5.0-cp310-cp310-manylinux_2_17_x86_64.manylinux2014_x86_64.whl.metadata (3.6 kB)\n",
            "Requirement already satisfied: pydantic<3,>=1.9.0 in /usr/local/lib/python3.10/dist-packages (from openai) (2.8.2)\n",
            "Requirement already satisfied: sniffio in /usr/local/lib/python3.10/dist-packages (from openai) (1.3.1)\n",
            "Requirement already satisfied: tqdm>4 in /usr/local/lib/python3.10/dist-packages (from openai) (4.66.5)\n",
            "Requirement already satisfied: typing-extensions<5,>=4.11 in /usr/local/lib/python3.10/dist-packages (from openai) (4.12.2)\n",
            "Requirement already satisfied: idna>=2.8 in /usr/local/lib/python3.10/dist-packages (from anyio<5,>=3.5.0->openai) (3.7)\n",
            "Requirement already satisfied: exceptiongroup in /usr/local/lib/python3.10/dist-packages (from anyio<5,>=3.5.0->openai) (1.2.2)\n",
            "Requirement already satisfied: certifi in /usr/local/lib/python3.10/dist-packages (from httpx<1,>=0.23.0->openai) (2024.7.4)\n",
            "Collecting httpcore==1.* (from httpx<1,>=0.23.0->openai)\n",
            "  Downloading httpcore-1.0.5-py3-none-any.whl.metadata (20 kB)\n",
            "Collecting h11<0.15,>=0.13 (from httpcore==1.*->httpx<1,>=0.23.0->openai)\n",
            "  Downloading h11-0.14.0-py3-none-any.whl.metadata (8.2 kB)\n",
            "Requirement already satisfied: annotated-types>=0.4.0 in /usr/local/lib/python3.10/dist-packages (from pydantic<3,>=1.9.0->openai) (0.7.0)\n",
            "Requirement already satisfied: pydantic-core==2.20.1 in /usr/local/lib/python3.10/dist-packages (from pydantic<3,>=1.9.0->openai) (2.20.1)\n",
            "Downloading openai-1.41.1-py3-none-any.whl (362 kB)\n",
            "\u001b[2K   \u001b[90m━━━━━━━━━━━━━━━━━━━━━━━━━━━━━━━━━━━━━━━━\u001b[0m \u001b[32m362.5/362.5 kB\u001b[0m \u001b[31m5.9 MB/s\u001b[0m eta \u001b[36m0:00:00\u001b[0m\n",
            "\u001b[?25hDownloading httpx-0.27.0-py3-none-any.whl (75 kB)\n",
            "\u001b[2K   \u001b[90m━━━━━━━━━━━━━━━━━━━━━━━━━━━━━━━━━━━━━━━━\u001b[0m \u001b[32m75.6/75.6 kB\u001b[0m \u001b[31m3.2 MB/s\u001b[0m eta \u001b[36m0:00:00\u001b[0m\n",
            "\u001b[?25hDownloading httpcore-1.0.5-py3-none-any.whl (77 kB)\n",
            "\u001b[2K   \u001b[90m━━━━━━━━━━━━━━━━━━━━━━━━━━━━━━━━━━━━━━━━\u001b[0m \u001b[32m77.9/77.9 kB\u001b[0m \u001b[31m2.3 MB/s\u001b[0m eta \u001b[36m0:00:00\u001b[0m\n",
            "\u001b[?25hDownloading jiter-0.5.0-cp310-cp310-manylinux_2_17_x86_64.manylinux2014_x86_64.whl (318 kB)\n",
            "\u001b[2K   \u001b[90m━━━━━━━━━━━━━━━━━━━━━━━━━━━━━━━━━━━━━━━━\u001b[0m \u001b[32m318.9/318.9 kB\u001b[0m \u001b[31m17.5 MB/s\u001b[0m eta \u001b[36m0:00:00\u001b[0m\n",
            "\u001b[?25hDownloading h11-0.14.0-py3-none-any.whl (58 kB)\n",
            "\u001b[2K   \u001b[90m━━━━━━━━━━━━━━━━━━━━━━━━━━━━━━━━━━━━━━━━\u001b[0m \u001b[32m58.3/58.3 kB\u001b[0m \u001b[31m3.7 MB/s\u001b[0m eta \u001b[36m0:00:00\u001b[0m\n",
            "\u001b[?25hInstalling collected packages: jiter, h11, httpcore, httpx, openai\n",
            "Successfully installed h11-0.14.0 httpcore-1.0.5 httpx-0.27.0 jiter-0.5.0 openai-1.41.1\n"
          ]
        }
      ],
      "source": [
        "!pip install openai"
      ]
    },
    {
      "cell_type": "code",
      "source": [
        "import os\n",
        "from openai import OpenAI\n",
        "\n",
        "client = OpenAI(\n",
        "    base_url=\"\",\n",
        "    api_key = \"\"\n",
        ")\n",
        "def call_gpt4(messages):\n",
        "  response = client.chat.completions.create(\n",
        "        model=\"gpt-3.5-turbo\",\n",
        "        max_tokens=32,\n",
        "        temperature=0,\n",
        "        seed=0,\n",
        "        messages=[\n",
        "    {\"role\": \"system\", \"content\": \"You are a poetic assistant, skilled in explaining complex programming concepts with creative flair.\"},\n",
        "    {\"role\": \"user\", \"content\": \"Compose a poem that explains the concept of recursion in programming.\"}\n",
        "  ]\n",
        "  )\n",
        "  return response\n",
        "\n",
        "# 测试调用\n",
        "messages = \"解释一下量子力学的基本原理。\"\n",
        "response = call_gpt4(messages)\n",
        "print(response.model)"
      ],
      "metadata": {
        "id": "VaqWJwT1g9_4",
        "colab": {
          "base_uri": "https://localhost:8080/"
        },
        "outputId": "59c78d6e-cfef-4aac-d0be-d857f046b0b0"
      },
      "execution_count": null,
      "outputs": [
        {
          "output_type": "stream",
          "name": "stdout",
          "text": [
            "gpt-35-turbo\n"
          ]
        }
      ]
    },
    {
      "cell_type": "code",
      "source": [
        "import json\n",
        "import re\n",
        "import os\n",
        "from tqdm import tqdm\n",
        "import numpy as np\n",
        "import random\n",
        "from openai import OpenAI\n",
        "client = OpenAI(\n",
        "    base_url=\"\",\n",
        "    api_key = \"\"\n",
        ")\n",
        "# 设置模型和结果文件名\n",
        "model = \"gpt-3.5-turbo\"\n",
        "results_file = \"reclor_test_gpt-3.5_zero_shot_results\"\n",
        "\n",
        "results_file_json = results_file + \".json\"\n",
        "if os.path.exists(results_file_json):\n",
        "    with open(results_file_json, \"r\") as f:\n",
        "        zero_shot_results = json.load(f)\n",
        "else:\n",
        "    zero_shot_results = []\n",
        "\n",
        "# 读取数据文件\n",
        "with open(\"/content/drive/MyDrive/project/test.json\", \"r\") as f:\n",
        "    data = json.load(f)\n",
        "\n",
        "start = len(zero_shot_results)\n",
        "\n",
        "for i in tqdm(range(start, len(data))):\n",
        "    question = data[i]['context'] + \" \" + data[i]['question'] + \\\n",
        "        \"\\nA. \" + data[i]['answers'][0] + \\\n",
        "        \"\\nB. \" + data[i]['answers'][1] + \\\n",
        "        \"\\nC. \" + data[i]['answers'][2] + \\\n",
        "        \"\\nD. \" + data[i]['answers'][3] + \\\n",
        "        \"\\nAmong A to D, the answer is: \"\n",
        "\n",
        "    messages = [\n",
        "        {\"role\": \"user\", \"content\": question},\n",
        "    ]\n",
        "\n",
        "    response = client.chat.completions.create(\n",
        "        model=model,\n",
        "        max_tokens=32,\n",
        "        temperature=0,\n",
        "        messages=messages)\n",
        "\n",
        "    content = response.choices[0].message.content\n",
        "    try:\n",
        "        pred = re.findall(r'A|B|C|D', content)[0]\n",
        "    except:\n",
        "        try_time = 1\n",
        "        while try_time < 5:\n",
        "            response = client.chat.completions.create(\n",
        "                model=model,\n",
        "                max_tokens=32,\n",
        "                temperature=1,\n",
        "                messages=messages)\n",
        "            content = response.choices[0].message.content\n",
        "            pred = re.findall(r'A|B|C|D', content)\n",
        "            if len(pred) > 0:\n",
        "                pred = pred[0]\n",
        "                break\n",
        "            else:\n",
        "                try_time += 1\n",
        "                print(f\"Try {try_time} times for {i}th question\")\n",
        "\n",
        "    results = json.loads(response.model_dump_json())\n",
        "    results['pred'] = pred\n",
        "    zero_shot_results.append(results)\n",
        "\n",
        "    with open(results_file_json, \"w\") as f:\n",
        "        json.dump(zero_shot_results, f, indent=4)\n",
        "\n",
        "assert len(zero_shot_results) == len(data)\n",
        "map_dict = {'A': 0, 'B': 1, 'C': 2, 'D': 3}\n",
        "results_npy = []\n",
        "for i in range(len(zero_shot_results)):\n",
        "    results_npy.append(map_dict[zero_shot_results[i]['pred']])\n",
        "print(results_npy)\n",
        "print(len(results_npy))\n",
        "results_npy = np.array(results_npy)\n",
        "results_file_npy = results_file + \".npy\"\n",
        "np.save(results_file_npy, results_npy)"
      ],
      "metadata": {
        "id": "BwmyQPWmhCPY",
        "colab": {
          "base_uri": "https://localhost:8080/"
        },
        "outputId": "970fa9fe-20b7-4e55-fbd5-7cd44a727442"
      },
      "execution_count": null,
      "outputs": [
        {
          "output_type": "stream",
          "name": "stderr",
          "text": [
            "100%|██████████| 1000/1000 [17:48<00:00,  1.07s/it]"
          ]
        },
        {
          "output_type": "stream",
          "name": "stdout",
          "text": [
            "[3, 1, 2, 0, 1, 2, 1, 1, 3, 0, 3, 3, 3, 1, 2, 0, 3, 3, 2, 3, 1, 3, 0, 2, 0, 1, 2, 1, 0, 2, 1, 2, 1, 1, 3, 2, 3, 2, 3, 2, 0, 3, 1, 3, 3, 3, 2, 2, 1, 0, 3, 1, 2, 3, 2, 0, 3, 3, 1, 0, 0, 1, 1, 3, 3, 1, 3, 3, 1, 1, 3, 2, 0, 3, 2, 2, 0, 1, 1, 0, 3, 1, 1, 2, 2, 2, 0, 0, 2, 2, 1, 3, 0, 0, 1, 2, 2, 2, 3, 2, 2, 2, 2, 1, 1, 2, 0, 3, 1, 3, 3, 1, 2, 2, 0, 3, 2, 3, 0, 1, 2, 0, 3, 1, 1, 3, 2, 2, 2, 3, 0, 3, 1, 3, 2, 1, 0, 1, 3, 0, 0, 2, 2, 0, 2, 3, 1, 2, 0, 1, 3, 3, 0, 0, 1, 1, 0, 0, 3, 1, 2, 3, 1, 2, 1, 1, 1, 2, 3, 0, 3, 3, 2, 0, 0, 3, 0, 3, 1, 2, 2, 2, 3, 2, 3, 3, 3, 3, 3, 1, 2, 0, 0, 2, 2, 0, 3, 2, 2, 0, 0, 2, 0, 2, 2, 3, 2, 0, 2, 3, 2, 3, 1, 3, 0, 0, 2, 3, 1, 1, 1, 3, 0, 3, 3, 1, 2, 0, 2, 3, 2, 1, 2, 3, 1, 3, 2, 0, 2, 0, 3, 2, 3, 1, 2, 0, 3, 0, 1, 2, 2, 2, 3, 2, 2, 2, 0, 2, 2, 3, 1, 1, 0, 1, 2, 1, 2, 1, 3, 1, 2, 0, 1, 3, 2, 0, 0, 3, 2, 3, 0, 1, 0, 0, 2, 0, 3, 0, 3, 3, 0, 0, 1, 2, 1, 3, 1, 1, 0, 0, 0, 3, 2, 2, 3, 1, 1, 3, 0, 1, 3, 1, 2, 3, 1, 0, 2, 1, 3, 3, 3, 2, 1, 2, 1, 2, 0, 2, 3, 1, 0, 1, 0, 3, 1, 2, 0, 2, 2, 0, 3, 2, 1, 3, 0, 3, 1, 3, 3, 2, 2, 2, 0, 1, 3, 2, 2, 2, 2, 1, 2, 2, 3, 0, 1, 0, 3, 0, 1, 0, 3, 3, 3, 3, 1, 1, 2, 2, 3, 2, 1, 3, 0, 1, 0, 1, 3, 0, 3, 0, 1, 3, 3, 1, 1, 0, 3, 1, 0, 3, 1, 3, 3, 0, 0, 0, 3, 3, 1, 1, 3, 0, 2, 2, 3, 0, 1, 1, 1, 1, 1, 1, 3, 0, 2, 3, 1, 2, 1, 1, 3, 3, 2, 3, 2, 3, 0, 1, 1, 2, 3, 0, 3, 2, 3, 1, 2, 0, 1, 0, 1, 0, 3, 1, 1, 2, 3, 1, 2, 1, 1, 2, 2, 1, 1, 2, 0, 3, 3, 2, 2, 1, 0, 3, 2, 1, 0, 1, 3, 3, 0, 1, 0, 1, 0, 0, 2, 1, 0, 1, 0, 0, 2, 1, 2, 2, 0, 3, 2, 2, 0, 2, 1, 0, 1, 0, 1, 0, 3, 3, 0, 0, 3, 0, 2, 2, 3, 1, 2, 2, 3, 1, 1, 3, 3, 1, 0, 1, 2, 1, 2, 1, 3, 3, 2, 2, 3, 2, 2, 3, 2, 1, 2, 0, 2, 3, 1, 0, 2, 3, 1, 3, 2, 0, 0, 1, 2, 2, 2, 2, 2, 3, 2, 2, 3, 0, 0, 0, 2, 2, 3, 2, 0, 1, 3, 1, 0, 2, 1, 2, 0, 1, 3, 3, 3, 0, 1, 2, 0, 2, 1, 1, 0, 0, 1, 2, 0, 3, 0, 2, 1, 2, 3, 0, 1, 0, 2, 3, 2, 0, 3, 2, 3, 1, 1, 2, 2, 0, 1, 1, 2, 0, 1, 1, 0, 1, 0, 1, 0, 2, 1, 0, 0, 2, 1, 1, 2, 1, 1, 3, 2, 0, 0, 0, 2, 2, 1, 1, 2, 2, 3, 3, 3, 1, 0, 2, 0, 3, 0, 0, 1, 2, 0, 1, 2, 2, 3, 2, 3, 0, 3, 1, 0, 2, 2, 0, 0, 2, 0, 3, 1, 2, 1, 3, 3, 1, 0, 1, 3, 3, 2, 1, 2, 0, 3, 1, 2, 0, 0, 2, 3, 2, 2, 3, 1, 2, 3, 3, 3, 1, 3, 2, 2, 3, 2, 3, 2, 0, 3, 0, 3, 0, 0, 0, 3, 0, 2, 1, 1, 3, 3, 1, 0, 0, 3, 1, 1, 3, 1, 0, 2, 1, 2, 1, 2, 2, 3, 3, 0, 2, 0, 2, 0, 2, 3, 2, 1, 3, 1, 3, 0, 0, 3, 1, 2, 1, 1, 3, 2, 3, 1, 2, 3, 0, 2, 0, 2, 2, 3, 2, 2, 0, 3, 3, 0, 0, 1, 2, 3, 0, 3, 1, 1, 3, 1, 1, 2, 3, 1, 1, 2, 1, 3, 1, 1, 0, 3, 3, 1, 2, 1, 3, 0, 1, 1, 0, 2, 2, 1, 0, 1, 0, 1, 2, 3, 1, 1, 0, 2, 3, 1, 1, 1, 2, 3, 3, 2, 1, 2, 1, 2, 0, 1, 0, 1, 1, 0, 1, 2, 1, 2, 2, 1, 0, 1, 0, 3, 1, 3, 2, 1, 0, 1, 3, 2, 0, 2, 0, 0, 3, 0, 1, 3, 2, 1, 3, 1, 2, 1, 3, 2, 2, 2, 3, 2, 1, 3, 2, 1, 2, 1, 3, 3, 2, 0, 3, 0, 2, 0, 1, 2, 0, 0, 2, 0, 1, 2, 0, 1, 3, 2, 2, 2, 2, 2, 2, 3, 3, 2, 3, 0, 1, 0, 3, 2, 1, 2, 3, 0, 2, 0, 1, 1, 0, 2, 1, 2, 1, 3, 0, 0, 1, 3, 3, 0, 0, 2, 1, 2, 1, 2, 1, 2, 0, 2, 0, 3, 0, 1, 2, 1, 0, 2, 3, 2, 2, 1, 1, 3, 2, 0, 0, 3, 0, 3, 3, 3, 3, 1, 2, 3, 0, 2, 3, 0, 1, 1, 0, 2, 3, 0, 3, 3, 3, 3, 0, 2, 0, 0, 0]\n",
            "1000\n"
          ]
        },
        {
          "output_type": "stream",
          "name": "stderr",
          "text": [
            "\n"
          ]
        }
      ]
    }
  ]
}
